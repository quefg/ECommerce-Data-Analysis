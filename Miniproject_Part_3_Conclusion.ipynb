{
 "cells": [
  {
   "cell_type": "markdown",
   "id": "e400adef",
   "metadata": {},
   "source": [
    "## Miniproject-FCEE-Group 6"
   ]
  },
  {
   "cell_type": "markdown",
   "id": "fa549b8d",
   "metadata": {},
   "source": [
    "### Team members:\n",
    "### Gao Jun: U2321450E\n",
    "### Qian Xin:U2321231F\n",
    "### Wang Ke:U2320276E"
   ]
  },
  {
   "cell_type": "markdown",
   "id": "9f43bb8b",
   "metadata": {},
   "source": [
    "## Part 3: Conclusion\n",
    "\n",
    "After evaluating the models, the predictor with the lowest MSE provides the most accurate predictions for future prices. The detailed comparison should be based on the MSE values computed in the analysis sections above. This will guide decision-making on which variables are most predictive."
   ]
  },
  {
   "cell_type": "markdown",
   "id": "4fe44297",
   "metadata": {},
   "source": [
    "Based on the Mean Squared Error (MSE) values for each predictor, we can analyze their performance in predicting future prices. \n",
    "\n",
    "**Numerical Predictors**\n",
    "\n",
    "Cost Alone: Extremely low MSE of 2.11e-24, suggesting almost perfect prediction.\n",
    "\n",
    "Quantity Alone: High MSE of 27,311,590.27, indicating poor predictive performance.\n",
    "\n",
    "Both Quantity and Cost: Also an extremely low MSE of 1.15e-24, suggesting nearly perfect prediction.\n",
    "\n",
    "**Onehot Encoding**\n",
    "\n",
    "Brand Alone: MSE of 14,057,790.13, moderate predictive accuracy.\n",
    "\n",
    "Category Alone: MSE of 6,476,571.57, better predictive accuracy than Brand alone.\n",
    "\n",
    "Both Brand and Category: MSE of 4,537,976.29, the best among the categorical data predictions, indicating improved accuracy when combining these variables.\n",
    "\n",
    "**Regression Tree**\n",
    "\n",
    "Brand Alone: MSE of 14,070,259.779, similar to onehot encoding using Brand.\n",
    "\n",
    "Category Alone: MSE of 6,476,568.533, almost identical to onehot encoding using Category.\n",
    "\n",
    "Both Brand and Category: MSE of 4,538,359.998, slightly worse than onehot but still the best among regression tree predictions.\n",
    "\n",
    "**Conclusions**\n",
    "\n",
    "The MSE values indicate that using both quantity and cost together in a simple model results in extremely accurate predictions with negligible error. This suggests that these numerical predictors, when used together, provide the best model for predicting future prices. However, it is worth noting the near-zero MSE values for 'Cost' and 'Both quantity and cost' might also suggest an overfitting issue or some other anomaly in data handling or model configuration, as such perfect predictions are typically unrealistic in real-world scenarios.\n",
    "\n",
    "Among the categorical predictors using onehot encoding, combining Brand and Category yields the lowest MSE, making it the best among the categorical options. Although these predictors do not match the accuracy of the numerical predictors, they could be useful in scenarios where numerical data is inadequate or unavailable.\n"
   ]
  }
 ],
 "metadata": {
  "kernelspec": {
   "display_name": "Python 3 (ipykernel)",
   "language": "python",
   "name": "python3"
  },
  "language_info": {
   "codemirror_mode": {
    "name": "ipython",
    "version": 3
   },
   "file_extension": ".py",
   "mimetype": "text/x-python",
   "name": "python",
   "nbconvert_exporter": "python",
   "pygments_lexer": "ipython3",
   "version": "3.11.5"
  }
 },
 "nbformat": 4,
 "nbformat_minor": 5
}
